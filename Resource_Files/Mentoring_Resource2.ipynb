{
 "cells": [
  {
   "cell_type": "markdown",
   "metadata": {},
   "source": [
    "## 튜플과 리스트의 차이점\n",
    "- 튜플은 몇 가지를 제외하고 리스트와 거의 비슷하다.\n",
    "\n",
    "### 다른점\n",
    "- 리스트는 [ ] 로 둘러싸지만 튜플은 ( ) 로 둘러싼다.\n",
    "- 리스트는 원소의 생성,삭제,수정이 자유롭지만 튜플은 그 값을 바꿀 수 없다."
   ]
  },
  {
   "cell_type": "code",
   "execution_count": 6,
   "metadata": {},
   "outputs": [],
   "source": [
    "li1 = []\n",
    "li = list()\n",
    "li2 = [1]\n",
    "li3 = [1,2,3]\n",
    "li4 = [1,2,3,['ab','cd']]"
   ]
  },
  {
   "cell_type": "code",
   "execution_count": 6,
   "metadata": {
    "scrolled": false
   },
   "outputs": [
    {
     "name": "stdout",
     "output_type": "stream",
     "text": [
      "(1, 2, 'a', 'abcd', ('qwe', 'wer'))\n"
     ]
    }
   ],
   "source": [
    "tu1 = ()\n",
    "tu2 = (1)\n",
    "tu3 = (1,2,3)\n",
    "tu4 = 1,2,3\n",
    "tu5 = (1,2,'a','abcd',('qwe','wer'))\n",
    "print(tu5)"
   ]
  },
  {
   "cell_type": "markdown",
   "metadata": {},
   "source": [
    "### 튜플 원소 변경해보기"
   ]
  },
  {
   "cell_type": "code",
   "execution_count": 7,
   "metadata": {},
   "outputs": [],
   "source": [
    "tu = (1,2,3,4,5,6)\n",
    "li = [1,2,3,4,5,6]"
   ]
  },
  {
   "cell_type": "markdown",
   "metadata": {},
   "source": [
    "### 튜플 인덱싱/슬라이싱\n",
    "- 리스트의 인덱싱/슬라이싱과 동일하다.\n"
   ]
  },
  {
   "cell_type": "code",
   "execution_count": 15,
   "metadata": {},
   "outputs": [
    {
     "name": "stdout",
     "output_type": "stream",
     "text": [
      "b\n"
     ]
    }
   ],
   "source": [
    "tu = (1,2,'a','b')\n",
    "print(tu[3])"
   ]
  },
  {
   "cell_type": "code",
   "execution_count": 16,
   "metadata": {},
   "outputs": [
    {
     "name": "stdout",
     "output_type": "stream",
     "text": [
      "(2, 'a', 'b')\n"
     ]
    }
   ],
   "source": [
    "print(tu[1:])"
   ]
  },
  {
   "cell_type": "markdown",
   "metadata": {},
   "source": [
    "### 튜플 더하기"
   ]
  },
  {
   "cell_type": "code",
   "execution_count": 13,
   "metadata": {},
   "outputs": [
    {
     "name": "stdout",
     "output_type": "stream",
     "text": [
      "(1, 2, 3, 4, 5)\n"
     ]
    }
   ],
   "source": [
    "tu1 = (1,2)\n",
    "tu2 = (3,4,5)\n",
    "tu1 += tu2\n",
    "tu1 = tu1 + tu2\n",
    "print(tu1)"
   ]
  },
  {
   "cell_type": "markdown",
   "metadata": {},
   "source": [
    "### 튜플 길이 구하기"
   ]
  },
  {
   "cell_type": "code",
   "execution_count": 18,
   "metadata": {},
   "outputs": [
    {
     "name": "stdout",
     "output_type": "stream",
     "text": [
      "4\n"
     ]
    }
   ],
   "source": [
    "tu = (1,2,'a','b')\n",
    "print(len(tu))"
   ]
  },
  {
   "cell_type": "code",
   "execution_count": 19,
   "metadata": {},
   "outputs": [
    {
     "name": "stdout",
     "output_type": "stream",
     "text": [
      "7\n",
      "(1, 2, 3, 4, [5, 6, 7, 8], 9, 10)\n"
     ]
    }
   ],
   "source": [
    "tu = (1,2,3,4,[5,6,7,8],9,10)\n",
    "print(len(tu))\n",
    "print(tu)"
   ]
  },
  {
   "cell_type": "code",
   "execution_count": 21,
   "metadata": {},
   "outputs": [],
   "source": [
    "tu[4][1] = 999"
   ]
  },
  {
   "cell_type": "code",
   "execution_count": 22,
   "metadata": {},
   "outputs": [
    {
     "data": {
      "text/plain": [
       "(1, 2, 3, 4, [5, 999, 7, 8], 9, 10)"
      ]
     },
     "execution_count": 22,
     "metadata": {},
     "output_type": "execute_result"
    }
   ],
   "source": [
    "tu"
   ]
  },
  {
   "cell_type": "markdown",
   "metadata": {},
   "source": [
    "# 제어문\n",
    "- if, while, for 제어문을 배운다\n",
    "- 자료형을 바탕으로 제어문을 이용하여 프로그램의 구조를 만들어본다"
   ]
  },
  {
   "cell_type": "markdown",
   "metadata": {},
   "source": [
    "### if 문\n",
    "- 일상 생활의 다음과 같은 상황을 상상해보자\n",
    "#### \"돈이 있다면 택시를 타고, 돈이 없다면 걸어간다.\"\n",
    "\n",
    "\n",
    "- 위의 문장처럼 주어진 조건을 판단한 후 그 상황에 맞게 처리해야할 경우가 생긴다.\n",
    "- 조건을 판단하여 해당 조건에 맞는 상황을 수행하는 데 쓰이는 것이 바로 if 문이다.\n",
    "- 위 조건을 코드로 작성해보자"
   ]
  },
  {
   "cell_type": "code",
   "execution_count": 20,
   "metadata": {},
   "outputs": [
    {
     "name": "stdout",
     "output_type": "stream",
     "text": [
      "택시를 탄다.\n"
     ]
    }
   ],
   "source": [
    "money = True                  # 돈이 있다.\n",
    "if money == True:             # 돈이 있다면\n",
    "    print(\"택시를 탄다.\")\n",
    "else:                         # 돈이 없다면\n",
    "    print(\"걸어간다.\")"
   ]
  },
  {
   "cell_type": "markdown",
   "metadata": {},
   "source": [
    "### if문의 기본 구조\n",
    "if 조건문 :  \n",
    "&nbsp;&nbsp;&nbsp;&nbsp;수행 문장1  \n",
    "&nbsp;&nbsp;&nbsp;&nbsp;수행 문장2  \n",
    "&nbsp;&nbsp;&nbsp;&nbsp;...  \n",
    "else:  \n",
    "&nbsp;&nbsp;&nbsp;&nbsp;수행 문장1  \n",
    "&nbsp;&nbsp;&nbsp;&nbsp;수행 문장2  \n",
    "&nbsp;&nbsp;&nbsp;&nbsp;...\n",
    "    \n",
    "- 조건문을 판단하여 참이면 if문 바로 다음의 문장들을 수행.\n",
    "- 조건문을 판단하여 거짓이면 else 문 다음 문장들을 수행하게 된다.\n",
    "- else는 if 문 없이 독립적으로 사용할 수 없다.\n",
    "\n",
    "### \"들여쓰기\"의 중요성  \n",
    "if 조건문:  \n",
    "&nbsp;&nbsp;&nbsp;&nbsp;수행 문장1  \n",
    "수행 문장2  \n",
    "&nbsp;&nbsp;&nbsp;&nbsp;수행 문장3\n",
    "- 위와같이 if문을 사용하면 오류가 발생한다.\n",
    "- \"수행 문장2\"부분에 들여쓰기를 하지 않았기 때문이다."
   ]
  },
  {
   "cell_type": "code",
   "execution_count": 25,
   "metadata": {},
   "outputs": [
    {
     "name": "stdout",
     "output_type": "stream",
     "text": [
      "택시를\n",
      "타고\n",
      "간다.\n"
     ]
    }
   ],
   "source": [
    "money = True\n",
    "if money:\n",
    "    print(\"택시를\")\n",
    "    print(\"타고\")\n",
    "    print(\"간다.\")"
   ]
  },
  {
   "cell_type": "markdown",
   "metadata": {},
   "source": [
    "### if 문에서 사용되는 비교연산자\n",
    "- x<y \n",
    "- x>y\n",
    "- x==y\n",
    "- x!=y\n",
    "- x>=y\n",
    "- x<=y"
   ]
  },
  {
   "cell_type": "code",
   "execution_count": 1,
   "metadata": {},
   "outputs": [
    {
     "name": "stdout",
     "output_type": "stream",
     "text": [
      "True\n",
      "False\n",
      "False\n",
      "True\n"
     ]
    }
   ],
   "source": [
    "x=3\n",
    "y=2\n",
    "print(x>y)             # True\n",
    "print(x<y)             # False\n",
    "print(x==y)            # False\n",
    "print(x!=y)            # True\n"
   ]
  },
  {
   "cell_type": "markdown",
   "metadata": {},
   "source": [
    "#### 밑의 조건예제를 직접 코드로 구현해보기\n",
    "-  만약 3000원 이상의 돈을 가지고 있으면 \"택시를 탄다\" 출력 그렇지 않으면 \"걸어간다\" 출력"
   ]
  },
  {
   "cell_type": "code",
   "execution_count": 31,
   "metadata": {},
   "outputs": [
    {
     "name": "stdout",
     "output_type": "stream",
     "text": [
      "걸어간다.\n"
     ]
    }
   ],
   "source": [
    "money = 2000\n",
    "if money>=3000:\n",
    "    print(\"택시를 탄다.\")\n",
    "else:\n",
    "    print(\"걸어간다.\")"
   ]
  },
  {
   "cell_type": "markdown",
   "metadata": {},
   "source": [
    "### and, or, not\n",
    "- 조건을 판단하기 위해 사용하는 다른 연산자로는 and, or, not이 있다.\n",
    "- 각각 연산자는 다음처럼 동작\n",
    "- x or y : x 와 y 둘 중 하나만 참이면 참이다.\n",
    "- x and y : x 와 y 모두 참이어야 참이다.\n",
    "- not x : x가 거짓이면 참이다.\n",
    "- 아래와 같은 조건 예시를 구현하면\n",
    "#### \"돈이 3000원 이상 있거나 카드가 있다면 택시를 타고 그렇지 않으면 걸어간다.\""
   ]
  },
  {
   "cell_type": "code",
   "execution_count": null,
   "metadata": {},
   "outputs": [],
   "source": []
  },
  {
   "cell_type": "code",
   "execution_count": 34,
   "metadata": {
    "scrolled": true
   },
   "outputs": [
    {
     "name": "stdout",
     "output_type": "stream",
     "text": [
      "택시를 탄다.\n"
     ]
    }
   ],
   "source": [
    "money = 2000\n",
    "card = True\n",
    "if money >= 3000 or card:\n",
    "    print(\"택시를 탄다.\")\n",
    "else:\n",
    "    print(\"걸어간다.\")"
   ]
  },
  {
   "cell_type": "markdown",
   "metadata": {},
   "source": [
    "### 풀어보기\n",
    "- 펩시는 1400원이다. 만약 지폐를 넣었을 때 펩시를 살 수 있으면 \"구매완료\" 를 출력하고 그렇지 않으면 \"구매불가\"를 출력하시오.\n",
    "#### Hint\n",
    "- pepsi = 1400\n",
    "- money = int(input(\"지불 금액 : \"))\n",
    "- 조건문을 적어 구현한다."
   ]
  },
  {
   "cell_type": "code",
   "execution_count": 38,
   "metadata": {},
   "outputs": [
    {
     "name": "stdout",
     "output_type": "stream",
     "text": [
      "지불금액 : 1300\n",
      "구매불가\n"
     ]
    }
   ],
   "source": [
    "pepsi = 1400\n",
    "money = int(input(\"지불금액 : \"))\n",
    "# 위 내용을 구현\n",
    "if money>=1400:\n",
    "    print(\"구매완료\")\n",
    "else:\n",
    "    print(\"구매불가\")"
   ]
  },
  {
   "cell_type": "markdown",
   "metadata": {},
   "source": [
    "#### 파이썬은 다른 언어에서 쉽게 볼 수 없는 조건문을 제공한다.\n",
    "- x in 리스트\n",
    "- x not in 리스트\n"
   ]
  },
  {
   "cell_type": "code",
   "execution_count": 47,
   "metadata": {},
   "outputs": [
    {
     "name": "stdout",
     "output_type": "stream",
     "text": [
      "입력 >> 1\n",
      "-9\n"
     ]
    }
   ],
   "source": [
    "a = int(input(\"입력 >> \"))\n",
    "print(a-10)\n",
    "# print(\"입력 한 값은 {} 입니다.\".format(a))"
   ]
  },
  {
   "cell_type": "code",
   "execution_count": 41,
   "metadata": {},
   "outputs": [
    {
     "name": "stdout",
     "output_type": "stream",
     "text": [
      "입력 >> 1\n",
      "들어있음\n"
     ]
    }
   ],
   "source": [
    "li = [1,2,3,4]\n",
    "target = int(input(\"입력 >> \"))\n",
    "\n",
    "if target in li:\n",
    "    print(\"들어있음\")\n",
    "else:\n",
    "    print(\"들어있지않음\")\n",
    "    \n",
    "    \n",
    "# if 1 in [1,2,3]:\n",
    "#     print(\"들어있음\")\n",
    "# else:\n",
    "#     print(\"들어있지 않음\")"
   ]
  },
  {
   "cell_type": "code",
   "execution_count": 3,
   "metadata": {},
   "outputs": [
    {
     "name": "stdout",
     "output_type": "stream",
     "text": [
      "들어있음\n"
     ]
    }
   ],
   "source": [
    "li = ['a','b','c','d']\n",
    "if 'a' in li:\n",
    "    print(\"들어있음\")\n",
    "else:\n",
    "    print(\"들어있지 않음\")"
   ]
  },
  {
   "cell_type": "markdown",
   "metadata": {},
   "source": [
    "#### 조건문에서 아무것도 하지 않고 싶으면 pass 를 쓰면된다."
   ]
  },
  {
   "cell_type": "code",
   "execution_count": 49,
   "metadata": {},
   "outputs": [],
   "source": [
    "li = ['a','b','c','d']\n",
    "if 'a' in li:\n",
    "    pass\n",
    "else:\n",
    "    print(\"들어있지 않음\")"
   ]
  },
  {
   "cell_type": "markdown",
   "metadata": {},
   "source": [
    "#### 다양한 조건을 판단할 수 있는 elif\n",
    "- \"주머니에 돈이 있으면 택시를 타고, 주머니에 돈은 없지만 카드가 있으면 택시를 타고, 돈도 없고 카드도 없으면 걸어가라\" 라는 조건을 구현해보자"
   ]
  },
  {
   "cell_type": "code",
   "execution_count": 9,
   "metadata": {},
   "outputs": [
    {
     "name": "stdout",
     "output_type": "stream",
     "text": [
      "택시를 탄다.\n"
     ]
    }
   ],
   "source": [
    "pocket = ['paper', 'handphone']    # 주머니의 내용을 선언\n",
    "card = True                        # 카드가 있다.\n",
    "\n",
    "if 'money' in pocket:              # 주머니에 돈이 있다면\n",
    "    print(\"택시를 탄다.\")\n",
    "else:                             #\n",
    "    if card==True:                # 주머니에 돈이 없고 카드가 있다면\n",
    "        print(\"택시를 탄다.\")   \n",
    "    else:                          #주머니에 돈이 없고 카드가 없다면.\n",
    "        print(\"걸어간다.\")"
   ]
  },
  {
   "cell_type": "markdown",
   "metadata": {},
   "source": [
    "- 위 코드는 복잡해 보인다."
   ]
  },
  {
   "cell_type": "code",
   "execution_count": null,
   "metadata": {},
   "outputs": [],
   "source": [
    "pocket = ['paper', 'cellphone']\n",
    "card = True\n",
    "\n",
    "if 'money' in pocket:          #주머니에 돈이 있으면\n",
    "    print(\"택시를 탄다.\")\n",
    "elif card == True:                     #돈이없고 카드가 있으면\n",
    "    print(\"택시를 탄다\")\n",
    "else:                          #둘 다 없으면\n",
    "    print(\"걸어간다.\")\n",
    "    "
   ]
  },
  {
   "cell_type": "markdown",
   "metadata": {},
   "source": [
    "- elif를 사용하면 간단한 코드를 구현할 수 있다."
   ]
  },
  {
   "cell_type": "markdown",
   "metadata": {},
   "source": [
    "### 조건부 표현식"
   ]
  },
  {
   "cell_type": "code",
   "execution_count": 4,
   "metadata": {},
   "outputs": [
    {
     "name": "stdout",
     "output_type": "stream",
     "text": [
      "점수 입력 >> 60\n",
      "success\n"
     ]
    }
   ],
   "source": [
    "score = int(input(\"점수 입력 >> \"))\n",
    "\n",
    "if score >= 60:\n",
    "    message = \"success\"\n",
    "else:\n",
    "    message = \"failure\"\n",
    "    \n",
    "print(message)\n"
   ]
  },
  {
   "cell_type": "markdown",
   "metadata": {},
   "source": [
    "#### 위 코드에서 조건문 부분을 한줄로 구현할 수 있다.\n"
   ]
  },
  {
   "cell_type": "code",
   "execution_count": 52,
   "metadata": {},
   "outputs": [
    {
     "name": "stdout",
     "output_type": "stream",
     "text": [
      "a는 7입니다.\n"
     ]
    }
   ],
   "source": [
    "message = \"success\" if score >= 60 else \"failure\" \n",
    "\n",
    "a=7\n",
    "if a==7: print(\"a는 7입니다.\")\n",
    "else: print(\"a는 7이 아닙니다.\")"
   ]
  },
  {
   "cell_type": "markdown",
   "metadata": {},
   "source": [
    "#### 조건문이 참인경우 if 조건문 else 조건문이 거짓인 경우 \n",
    "#### 이 표현식은 가독성이 좋고 한 줄로 작성할 수 있어서 활용성이 좋다."
   ]
  }
 ],
 "metadata": {
  "kernelspec": {
   "display_name": "tensorflow",
   "language": "python",
   "name": "tensorflow"
  },
  "language_info": {
   "codemirror_mode": {
    "name": "ipython",
    "version": 3
   },
   "file_extension": ".py",
   "mimetype": "text/x-python",
   "name": "python",
   "nbconvert_exporter": "python",
   "pygments_lexer": "ipython3",
   "version": "3.6.8"
  }
 },
 "nbformat": 4,
 "nbformat_minor": 2
}

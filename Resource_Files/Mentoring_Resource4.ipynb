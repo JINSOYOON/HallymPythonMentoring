{
 "cells": [
  {
   "cell_type": "markdown",
   "metadata": {},
   "source": [
    "### 함수\n",
    "- 함수는 수학에서 배우는 함수와 비슷하다.\n",
    "- f(x)=x^2 이라는 수학에서의 함수가 있다.\n",
    "- f(2) = 2^2 이 된다.\n",
    "- 수학에서의 함수처럼 파이썬에서 함수를 정의할 때는\n",
    "- def 로 시작하고 이 def의 의미를 함수 정의를 시작한다는 뜻이다.  \n",
    "\n",
    "def 함수명(입력값):  \n",
    "　　수행문장들  \n",
    "  \n",
    "- 수학 함수에서 f(x)=x^2 여기서 f가 함수명이다.x는 입력값이고 x^2은 수행문이다.\n",
    "- 이를 파이썬 코드로 정리하면 밑과 같다.  \n",
    "\n",
    "def f(x):  \n",
    "　　return x*x\n",
    "\n",
    "\n",
    "- 파이썬 코드에서의 다른점은 입력값이 숫자뿐만 아니라 파이썬에서 지원하는 자료형 무엇이든지 입력값으로 넣을 수 있다."
   ]
  },
  {
   "cell_type": "markdown",
   "metadata": {},
   "source": [
    "### 덧셈을 하여 결과를 반환하는 함수를 작성하고 만든 함수를 이용하여 3과5의 덧셈을 출력하시오.\n",
    "- 함수명 : add\n",
    "- 입력값 : a,b\n",
    "- 출력값 : a+b"
   ]
  },
  {
   "cell_type": "code",
   "execution_count": 4,
   "metadata": {},
   "outputs": [
    {
     "name": "stdout",
     "output_type": "stream",
     "text": [
      "4\n"
     ]
    }
   ],
   "source": [
    "def add(a,b):          # add 는 함수명 (a,b)는 매개변수\n",
    "    return a+b         # 결과값을 return(반환)하면 함수를 호출하면 \n",
    "                       # 반환값이 결과로 나온다.\n",
    "\n",
    "hap = add(1,3)         # 1,3 은 인자라고 하고 add함수에 인자를 전달한다고 말한다.\n",
    "print(hap)"
   ]
  },
  {
   "cell_type": "markdown",
   "metadata": {},
   "source": [
    "### 풀어보기\n",
    "- 위 함수 작성법을 참고하여 뺄셈을 하고 결과를 반환하는 함수를 작성하고 10과2의 뺄셈을 출력하시오\n",
    "- 함수명 : sub\n",
    "- 입력값 : a,b\n",
    "- 출력값 : a-b"
   ]
  },
  {
   "cell_type": "code",
   "execution_count": null,
   "metadata": {},
   "outputs": [],
   "source": []
  },
  {
   "cell_type": "code",
   "execution_count": null,
   "metadata": {},
   "outputs": [],
   "source": []
  },
  {
   "cell_type": "markdown",
   "metadata": {},
   "source": [
    "### 입력값, 반환값이 꼭 있어야 하는건 아니다.\n",
    "- 입력값은 비어있어도 된다."
   ]
  },
  {
   "cell_type": "code",
   "execution_count": 6,
   "metadata": {},
   "outputs": [
    {
     "name": "stdout",
     "output_type": "stream",
     "text": [
      "Hello\n"
     ]
    }
   ],
   "source": [
    "def print_hello():        # 입력값도\n",
    "    print(\"Hello\")        # 반환값도 없다.\n",
    "\n",
    "print_hello()"
   ]
  },
  {
   "cell_type": "markdown",
   "metadata": {},
   "source": [
    "### 입력값은 있고 반환값은 없는 함수"
   ]
  },
  {
   "cell_type": "code",
   "execution_count": 7,
   "metadata": {},
   "outputs": [
    {
     "name": "stdout",
     "output_type": "stream",
     "text": [
      "제 이름은 최정명입니다.\n"
     ]
    }
   ],
   "source": [
    "def print_name(name):\n",
    "    print(\"제 이름은 {}입니다.\".format(name))\n",
    "    \n",
    "print_name(\"최정명\")"
   ]
  },
  {
   "cell_type": "markdown",
   "metadata": {},
   "source": [
    "### 입력값은 없고 반환값은 있는 함수\n"
   ]
  },
  {
   "cell_type": "code",
   "execution_count": 13,
   "metadata": {},
   "outputs": [
    {
     "name": "stdout",
     "output_type": "stream",
     "text": [
      "[1, 2, 3]\n",
      "[]\n"
     ]
    }
   ],
   "source": [
    "def clear_list():\n",
    "    return []\n",
    "\n",
    "li = [1,2,3]\n",
    "print(li)\n",
    "\n",
    "\n",
    "li = clear_list()\n",
    "print(li)"
   ]
  },
  {
   "cell_type": "markdown",
   "metadata": {},
   "source": [
    "### 함수에서 반환은 항상 한 번된다."
   ]
  },
  {
   "cell_type": "code",
   "execution_count": 20,
   "metadata": {},
   "outputs": [
    {
     "name": "stdout",
     "output_type": "stream",
     "text": [
      "(8, -2, 15, 0.6)\n",
      "<class 'tuple'>\n",
      "-2\n",
      "8\n"
     ]
    }
   ],
   "source": [
    "def cal(a,b):\n",
    "    return a+b, a-b, a*b, a/b\n",
    "\n",
    "print(cal(3,5))\n",
    "print(type(cal(3,5)))\n",
    "# 튜플자료형으로 반환이 된다.\n",
    "# 만약 반환하는 값 하나만 선택하여 출력하고 싶다면\n",
    "add, sub, mul, div = cal(3,5)\n",
    "print(sub)\n",
    "\n",
    "# 혹은\n",
    "\n",
    "print(cal(3,5)[0])"
   ]
  },
  {
   "cell_type": "code",
   "execution_count": 22,
   "metadata": {},
   "outputs": [
    {
     "name": "stdout",
     "output_type": "stream",
     "text": [
      "4\n"
     ]
    }
   ],
   "source": [
    "def cal(a,b):\n",
    "    return a+b\n",
    "    return a-b\n",
    "\n"
   ]
  },
  {
   "cell_type": "markdown",
   "metadata": {},
   "source": [
    "- 반환은 항상 한 번이다.\n",
    "- 만약 함수에 반환을 두 번한다면 처음 만나는 반환값에서 함수가 끝나게 된다.\n"
   ]
  },
  {
   "cell_type": "code",
   "execution_count": 27,
   "metadata": {},
   "outputs": [],
   "source": [
    "def say_nick(nick):\n",
    "    if nick == \"바보\" or nick == \"멍청이\":\n",
    "        return\n",
    "    print(\"나의 별명은 {} 입니다.\".format(nick))\n",
    "\n",
    "say_nick(\"멍청이\")"
   ]
  },
  {
   "cell_type": "markdown",
   "metadata": {},
   "source": [
    "- return 은 함수를 끝내는 역할을 하기도 한다.\n"
   ]
  },
  {
   "cell_type": "markdown",
   "metadata": {},
   "source": [
    "### 매개변수에 초기값을 미리 설정해두기\n"
   ]
  },
  {
   "cell_type": "code",
   "execution_count": 32,
   "metadata": {},
   "outputs": [
    {
     "name": "stdout",
     "output_type": "stream",
     "text": [
      "저는 남성입니다.\n",
      "제 이름은 최정명이고 나이는 25입니다.\n"
     ]
    }
   ],
   "source": [
    "def say_myself(name, age, man=True):\n",
    "    if man:\n",
    "        print(\"저는 남성입니다.\")\n",
    "    else:\n",
    "        print(\"저는 여성입니다.\")\n",
    "    print(\"제 이름은 {}이고 나이는 {}입니다.\".format(name,age))\n",
    "\n",
    "say_myself(\"최정명\", 25)\n",
    "say_myself(\"최정명\", 25, False)\n"
   ]
  },
  {
   "cell_type": "code",
   "execution_count": 49,
   "metadata": {},
   "outputs": [
    {
     "name": "stdout",
     "output_type": "stream",
     "text": [
      "7\n"
     ]
    }
   ],
   "source": [
    "a=2\n",
    "def test():\n",
    "    a = a+5\n",
    "    print(a)\n",
    "    \n",
    "def test2():\n",
    "    global a\n",
    "    a = a+5\n",
    "    print(a)\n",
    "# test()\n",
    "test2()"
   ]
  },
  {
   "cell_type": "code",
   "execution_count": null,
   "metadata": {},
   "outputs": [],
   "source": []
  },
  {
   "cell_type": "code",
   "execution_count": null,
   "metadata": {},
   "outputs": [],
   "source": []
  },
  {
   "cell_type": "code",
   "execution_count": null,
   "metadata": {},
   "outputs": [],
   "source": []
  },
  {
   "cell_type": "code",
   "execution_count": null,
   "metadata": {},
   "outputs": [],
   "source": []
  },
  {
   "cell_type": "code",
   "execution_count": null,
   "metadata": {},
   "outputs": [],
   "source": []
  },
  {
   "cell_type": "code",
   "execution_count": null,
   "metadata": {},
   "outputs": [],
   "source": []
  },
  {
   "cell_type": "code",
   "execution_count": null,
   "metadata": {},
   "outputs": [],
   "source": []
  },
  {
   "cell_type": "code",
   "execution_count": null,
   "metadata": {},
   "outputs": [],
   "source": []
  },
  {
   "cell_type": "code",
   "execution_count": null,
   "metadata": {},
   "outputs": [],
   "source": []
  },
  {
   "cell_type": "markdown",
   "metadata": {},
   "source": []
  }
 ],
 "metadata": {
  "kernelspec": {
   "display_name": "tensorflow",
   "language": "python",
   "name": "tensorflow"
  },
  "language_info": {
   "codemirror_mode": {
    "name": "ipython",
    "version": 3
   },
   "file_extension": ".py",
   "mimetype": "text/x-python",
   "name": "python",
   "nbconvert_exporter": "python",
   "pygments_lexer": "ipython3",
   "version": "3.6.8"
  }
 },
 "nbformat": 4,
 "nbformat_minor": 2
}

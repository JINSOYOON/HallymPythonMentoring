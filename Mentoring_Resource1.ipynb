{
 "cells": [
  {
   "cell_type": "markdown",
   "metadata": {},
   "source": [
    "# 파이썬 기초 자료형"
   ]
  },
  {
   "cell_type": "markdown",
   "metadata": {},
   "source": [
    "- 숫자, 문자열 등 자료 형태로 사용하는 모든 것\n",
    "- 기본중에 기본\n"
   ]
  },
  {
   "cell_type": "markdown",
   "metadata": {},
   "source": [
    "# 자료형 종류"
   ]
  },
  {
   "cell_type": "markdown",
   "metadata": {},
   "source": [
    "- 숫자\n",
    "- 문자\n",
    "- 리스트\n",
    "- 튜플\n",
    "- 딕셔너리\n",
    "- 불\n"
   ]
  },
  {
   "cell_type": "markdown",
   "metadata": {},
   "source": [
    "## 숫자\n",
    "#### 정수형"
   ]
  },
  {
   "cell_type": "code",
   "execution_count": 1,
   "metadata": {},
   "outputs": [
    {
     "name": "stdout",
     "output_type": "stream",
     "text": [
      "123 -123 0\n"
     ]
    }
   ],
   "source": [
    "a = 123\n",
    "b = -123\n",
    "c = 0\n",
    "print(a,b,c)\n"
   ]
  },
  {
   "cell_type": "markdown",
   "metadata": {},
   "source": [
    "#### 실수형\n",
    "- e3 혹은 e-3 은 \"컴퓨터식 지수표현 방식\" 이다.\n",
    "- e3은 10^3 이라는 표현.\n",
    "- e-3 은 10^-3 이라는 표현."
   ]
  },
  {
   "cell_type": "code",
   "execution_count": 2,
   "metadata": {
    "scrolled": false
   },
   "outputs": [
    {
     "name": "stdout",
     "output_type": "stream",
     "text": [
      "a : 1.2\n",
      "b : -2.4\n"
     ]
    }
   ],
   "source": [
    "a = 1.2\n",
    "b = -2.4\n",
    "print(\"a : {}\\nb : {}\".format(a,b))"
   ]
  },
  {
   "cell_type": "code",
   "execution_count": 3,
   "metadata": {},
   "outputs": [
    {
     "name": "stdout",
     "output_type": "stream",
     "text": [
      "a : 412000.0\n",
      "b : 0.00412\n"
     ]
    }
   ],
   "source": [
    "a= 4.12E5\n",
    "b= 4.12e-3\n",
    "print(\"a : {}\\nb : {}\".format(a,b))"
   ]
  },
  {
   "cell_type": "markdown",
   "metadata": {},
   "source": [
    "#### 8진수 16진수\n",
    "- 중요한 편이 아니다.\n",
    "- 이런게 있다는 것만 알고 필요할 때 다시 찾아보고 쓰면 된다."
   ]
  },
  {
   "cell_type": "code",
   "execution_count": 4,
   "metadata": {},
   "outputs": [
    {
     "name": "stdout",
     "output_type": "stream",
     "text": [
      "a : 2303\n",
      "b : 2748\n"
     ]
    }
   ],
   "source": [
    "a = 0x8ff\n",
    "b = 0xABC\n",
    "print(\"a : {}\\nb : {}\".format(a,b))"
   ]
  },
  {
   "cell_type": "markdown",
   "metadata": {},
   "source": [
    "## 숫자형을 활용하기 위한 연산자"
   ]
  },
  {
   "cell_type": "markdown",
   "metadata": {},
   "source": [
    "#### 사칙연산\n",
    "- +, -, *, / 연산자"
   ]
  },
  {
   "cell_type": "code",
   "execution_count": 5,
   "metadata": {},
   "outputs": [
    {
     "name": "stdout",
     "output_type": "stream",
     "text": [
      "7\n",
      "-1\n",
      "12\n",
      "0.75\n"
     ]
    }
   ],
   "source": [
    "a=3\n",
    "b=4\n",
    "print(a+b)\n",
    "print(a-b)\n",
    "print(a*b)\n",
    "print(a/b)"
   ]
  },
  {
   "cell_type": "markdown",
   "metadata": {},
   "source": [
    "- % : 나눗셈 후 나머지를 변환 하는 연산자 "
   ]
  },
  {
   "cell_type": "code",
   "execution_count": 6,
   "metadata": {},
   "outputs": [
    {
     "name": "stdout",
     "output_type": "stream",
     "text": [
      "1\n"
     ]
    }
   ],
   "source": [
    "print(7%3)"
   ]
  },
  {
   "cell_type": "markdown",
   "metadata": {},
   "source": [
    "- // : 나눗셈 후 몫을 반환하는 연산자"
   ]
  },
  {
   "cell_type": "code",
   "execution_count": 7,
   "metadata": {},
   "outputs": [
    {
     "name": "stdout",
     "output_type": "stream",
     "text": [
      "2\n"
     ]
    }
   ],
   "source": [
    "print(7//3)"
   ]
  },
  {
   "cell_type": "markdown",
   "metadata": {},
   "source": [
    "# 풀어보기\n",
    "- 변수명 name 에 자신의 이름을 넣어 선언 그리고 초기화\n",
    "- 변수명 kor 에 점수를 넣어 선언\n",
    "- 변수명 eng 에 점수를 넣어 선언\n",
    "- 변수명 math 에 점수를 넣어 선언\n",
    "- kor, eng, math 점수의 평균을 구해 변수 score 에 저장\n",
    "- \"OO님의 평균 점수는 OO 입니다.\" 로 출력하기\n",
    "\n"
   ]
  },
  {
   "cell_type": "code",
   "execution_count": 8,
   "metadata": {},
   "outputs": [
    {
     "name": "stdout",
     "output_type": "stream",
     "text": [
      "최정명님의 평균 점수는 91.66666666666667 입니다.\n"
     ]
    }
   ],
   "source": [
    "name = \"최정명\"\n",
    "kor = 90\n",
    "eng = 95\n",
    "math = 90\n",
    "score = (kor + eng + math) /3\n",
    "print(\"{}님의 평균 점수는 {} 입니다.\".format(name,score))"
   ]
  },
  {
   "cell_type": "markdown",
   "metadata": {},
   "source": [
    "## 문자형\n",
    "- 큰 따옴표나 작은 따옴표로 둘러 싼것은 모두 문자열이라고 보면 된다.\n",
    "- 큰 따옴표와 작은 따옴표의 역할은 같다."
   ]
  },
  {
   "cell_type": "code",
   "execution_count": 9,
   "metadata": {},
   "outputs": [
    {
     "name": "stdout",
     "output_type": "stream",
     "text": [
      "Hello Python\n",
      "Hello Python\n"
     ]
    }
   ],
   "source": [
    "string_1 = \"Hello Python\"\n",
    "string_2 = 'Hello Python'\n",
    "print(string_1)\n",
    "print(string_2)"
   ]
  },
  {
   "cell_type": "markdown",
   "metadata": {},
   "source": [
    "- 출력 할 때 큰 따옴표를 출력하고 싶으면 문자열을 작은 따옴표로 묶어주고\n",
    "- 작은 따옴표를 출력하고 싶으면 문자열을 큰 따옴표로 묶어주면 된다."
   ]
  },
  {
   "cell_type": "code",
   "execution_count": 10,
   "metadata": {},
   "outputs": [
    {
     "name": "stdout",
     "output_type": "stream",
     "text": [
      "I'm hungry\n",
      "\"Python is very easy\". he says\n"
     ]
    }
   ],
   "source": [
    "string_1 = \"I'm hungry\"\n",
    "print(string_1)\n",
    "\n",
    "string_2 = '\"Python is very easy\". he says'\n",
    "print(string_2)"
   ]
  },
  {
   "cell_type": "markdown",
   "metadata": {},
   "source": [
    "- 큰 따옴표와 작은따옴표 둘 다 문자열에 포함 시키고 싶으면 \\\\ (백슬래시)를 이용한다\n"
   ]
  },
  {
   "cell_type": "code",
   "execution_count": 11,
   "metadata": {},
   "outputs": [
    {
     "name": "stdout",
     "output_type": "stream",
     "text": [
      "\"I'm hungry.\" he says\n"
     ]
    }
   ],
   "source": [
    "string_1 = \"\\\"I'm hungry.\\\" he says\"\n",
    "print(string_1)"
   ]
  },
  {
   "cell_type": "markdown",
   "metadata": {},
   "source": [
    "- 문자열에서 줄을 바꾸고 싶을 때 \\\\n 을 사용한다"
   ]
  },
  {
   "cell_type": "code",
   "execution_count": 12,
   "metadata": {},
   "outputs": [
    {
     "name": "stdout",
     "output_type": "stream",
     "text": [
      "Life is too short\n",
      "You need python\n"
     ]
    }
   ],
   "source": [
    "string_1 = \"Life is too short\"\n",
    "string_2 = \"You need python\"\n",
    "print(string_1)\n",
    "print(string_2)"
   ]
  },
  {
   "cell_type": "code",
   "execution_count": 13,
   "metadata": {},
   "outputs": [
    {
     "name": "stdout",
     "output_type": "stream",
     "text": [
      "Life is too short\n",
      "You need python\n"
     ]
    }
   ],
   "source": [
    "string_1 = \"Life is too short\\nYou need python\"\n",
    "print(string_1)"
   ]
  },
  {
   "cell_type": "markdown",
   "metadata": {},
   "source": [
    "#### '''\n",
    "- 큰 따옴표나 작은따옴표 세개를 사용하여 문자열을 묶어주면 줄내림을 쉽게 할 수 있다.\n",
    "- 줄내림이 한 두개 있는 정도는 괜찮지만 많을 경우 \"\"\"로 묶어주는게 보기 좋다."
   ]
  },
  {
   "cell_type": "code",
   "execution_count": 14,
   "metadata": {},
   "outputs": [
    {
     "name": "stdout",
     "output_type": "stream",
     "text": [
      "Life is too short\n",
      "You need python\n"
     ]
    }
   ],
   "source": [
    "string_1 = \"\"\"Life is too short\n",
    "You need python\"\"\"\n",
    "print(string_1)"
   ]
  },
  {
   "cell_type": "code",
   "execution_count": 15,
   "metadata": {},
   "outputs": [
    {
     "name": "stdout",
     "output_type": "stream",
     "text": [
      "Life is too short\n",
      "You need python\n"
     ]
    }
   ],
   "source": [
    "string_1 = '''Life is too short\n",
    "You need python'''\n",
    "print(string_1)"
   ]
  },
  {
   "cell_type": "markdown",
   "metadata": {},
   "source": [
    "#### 줄내림(\\\\n) 같은 문자열 안에서 사용하는 특정 코드를 <이스케이프 코드> 라고 부른다.\n",
    "- \\\\n : 줄바꿈\n",
    "- \\\\t : 탭 (띄워쓰기 8칸?)\n",
    "- \\\\\\ : ' \\\\ ' 문자\n",
    "- \\\\\" : \" \\\\ \" 문자\n",
    "- \\\\' : ' \\\\ ' 문자\n"
   ]
  },
  {
   "cell_type": "markdown",
   "metadata": {},
   "source": [
    "### 문자열 연산"
   ]
  },
  {
   "cell_type": "markdown",
   "metadata": {},
   "source": [
    "- 파이썬의 장점. 다른 언어에서는 쉽게찾아볼 수 없는 기능.\n",
    "- 문자열을 더하거나 곱하는 연산\n"
   ]
  },
  {
   "cell_type": "markdown",
   "metadata": {},
   "source": [
    "#### 문자열 더해서 연결하기"
   ]
  },
  {
   "cell_type": "code",
   "execution_count": 16,
   "metadata": {},
   "outputs": [
    {
     "name": "stdout",
     "output_type": "stream",
     "text": [
      "Python is fun !\n"
     ]
    }
   ],
   "source": [
    "string_1 = \"Python\"\n",
    "string_2 = \" is fun !\"\n",
    "result = string_1 + string_2 \n",
    "print(result)"
   ]
  },
  {
   "cell_type": "markdown",
   "metadata": {},
   "source": [
    "#### 문자열 곱하기"
   ]
  },
  {
   "cell_type": "code",
   "execution_count": 17,
   "metadata": {},
   "outputs": [
    {
     "name": "stdout",
     "output_type": "stream",
     "text": [
      "==========메뉴==========\n"
     ]
    }
   ],
   "source": [
    "string_1 = \"==========메뉴==========\"\n",
    "print(string_1)"
   ]
  },
  {
   "cell_type": "code",
   "execution_count": 18,
   "metadata": {},
   "outputs": [
    {
     "name": "stdout",
     "output_type": "stream",
     "text": [
      "==========메뉴==========\n"
     ]
    }
   ],
   "source": [
    "string_1 = \"=\"*10 + \"메뉴\" + \"=\"*10\n",
    "print(string_1)"
   ]
  },
  {
   "cell_type": "markdown",
   "metadata": {},
   "source": [
    "#### 문자열 길이 구하기\n",
    "- 파이썬에서 기본으로 제공하는 len() 함수를 이용한다.\n",
    "- 아주 자주 쓰이니까 외우는게 좋다."
   ]
  },
  {
   "cell_type": "code",
   "execution_count": 19,
   "metadata": {},
   "outputs": [
    {
     "name": "stdout",
     "output_type": "stream",
     "text": [
      "14\n"
     ]
    }
   ],
   "source": [
    "string_1 = \"Python is fun!\"\n",
    "length = len(string_1)\n",
    "print(length)"
   ]
  },
  {
   "cell_type": "code",
   "execution_count": 20,
   "metadata": {},
   "outputs": [
    {
     "name": "stdout",
     "output_type": "stream",
     "text": [
      "10\n"
     ]
    }
   ],
   "source": [
    "string_1 = \"          \"\n",
    "length = len(string_1)\n",
    "print(length)"
   ]
  },
  {
   "cell_type": "markdown",
   "metadata": {},
   "source": [
    "#### 문자열 인덱싱과 슬라이싱\n",
    "- 인덱싱(indexing) : 무엇인가를 가리킨다는 의미 \n",
    "- 슬라이싱(slicing) : 무엇인가를 잘라낸다는 의미.\n"
   ]
  },
  {
   "cell_type": "code",
   "execution_count": 21,
   "metadata": {},
   "outputs": [],
   "source": [
    "string_1 = \"Life is too short\"\n",
    "# string_1 ~ [16] 까지 직접 출력해보면서 "
   ]
  },
  {
   "cell_type": "code",
   "execution_count": null,
   "metadata": {},
   "outputs": [],
   "source": []
  },
  {
   "cell_type": "code",
   "execution_count": 22,
   "metadata": {
    "scrolled": true
   },
   "outputs": [
    {
     "data": {
      "image/png": "[encoded data removed]",
      "text/plain": [
       "<IPython.core.display.Image object>"
      ]
     },
     "execution_count": 22,
     "metadata": {},
     "output_type": "execute_result"
    }
   ],
   "source": [
    "from IPython.display import Image\n",
    "Image(\"인덱스.png\")"
   ]
  },
  {
   "cell_type": "markdown",
   "metadata": {},
   "source": [
    "- 대부분의 프로그래밍 언어의 인덱스는 0부터 센다.\n",
    "- [0] : L\n",
    "- [1] : i\n",
    "- [2] : f\n",
    "- [3] : e\n",
    "- [4] : \n",
    "- [5] : i\n",
    "\n",
    "......\n",
    "\n"
   ]
  },
  {
   "cell_type": "markdown",
   "metadata": {},
   "source": [
    "- [-1]\n",
    "- -1 인덱스는 뭐가 나올까 ? \n",
    "- -1부터 -2, -3 순서대로 출력해보기"
   ]
  },
  {
   "cell_type": "code",
   "execution_count": 23,
   "metadata": {},
   "outputs": [
    {
     "name": "stdout",
     "output_type": "stream",
     "text": [
      "t\n",
      "r\n",
      "o\n"
     ]
    }
   ],
   "source": [
    "print(string_1[-1])\n",
    "print(string_1[-2])\n",
    "print(string_1[-3])"
   ]
  },
  {
   "cell_type": "markdown",
   "metadata": {},
   "source": [
    "#### 문자열 슬라이싱\n",
    "- \"Life is too short, You need Python\" 이라는 문자열에서 단순히 문자를 뽑아내는 것이 아니라 \"Life\" 또는 \"You\" 같은 단어들을 뽑는 방법"
   ]
  },
  {
   "cell_type": "code",
   "execution_count": 24,
   "metadata": {},
   "outputs": [
    {
     "name": "stdout",
     "output_type": "stream",
     "text": [
      "Life\n"
     ]
    }
   ],
   "source": [
    "string_1 = \"Life is too short, You need Python\"\n",
    "\n",
    "b = string_1[0] + string_1[1] + string_1[2] + string_1[3]\n",
    "print(b)"
   ]
  },
  {
   "cell_type": "markdown",
   "metadata": {},
   "source": [
    "- 위 처럼 하나의 인덱스씩 접근하여 만드는 방법이 있지만 파이썬 에서는 더 좋은 방법을 제공한다."
   ]
  },
  {
   "cell_type": "code",
   "execution_count": 25,
   "metadata": {},
   "outputs": [
    {
     "name": "stdout",
     "output_type": "stream",
     "text": [
      "Life\n"
     ]
    }
   ],
   "source": [
    "b = string_1[0:4]\n",
    "print(b)"
   ]
  },
  {
   "cell_type": "markdown",
   "metadata": {},
   "source": [
    "- [0:4] 는 0번째 부터 3번째라는 의미. 앞은 이상 뒤는 미만."
   ]
  },
  {
   "cell_type": "code",
   "execution_count": 26,
   "metadata": {},
   "outputs": [
    {
     "data": {
      "image/png": "[encoded data removed]",
      "text/plain": [
       "<IPython.core.display.Image object>"
      ]
     },
     "execution_count": 26,
     "metadata": {},
     "output_type": "execute_result"
    }
   ],
   "source": [
    "from IPython.display import Image\n",
    "Image(\"인덱스.png\")"
   ]
  },
  {
   "cell_type": "markdown",
   "metadata": {},
   "source": [
    "- 위 표를 참고하여 short 단어를 word 라는 변수에 담아보기\n",
    "- 그리고 word변수를 출력하여 제대로 나오는지 확인하기\n"
   ]
  },
  {
   "cell_type": "code",
   "execution_count": 27,
   "metadata": {},
   "outputs": [
    {
     "name": "stdout",
     "output_type": "stream",
     "text": [
      "short\n"
     ]
    }
   ],
   "source": [
    "word = string_1[12:17]\n",
    "print(word)"
   ]
  },
  {
   "cell_type": "markdown",
   "metadata": {},
   "source": [
    "- 위 표를 참고하여 word 라는 변수에 Life is too 문자열을 담아보기\n",
    "- 그리고 word 변수를 출력하여 제대로 나오는지 확인하기"
   ]
  },
  {
   "cell_type": "code",
   "execution_count": 28,
   "metadata": {},
   "outputs": [
    {
     "name": "stdout",
     "output_type": "stream",
     "text": [
      "Life is too\n"
     ]
    }
   ],
   "source": [
    "word = string_1[:11]\n",
    "print(word)"
   ]
  },
  {
   "cell_type": "markdown",
   "metadata": {},
   "source": [
    "- 위 처럼 [a:b] a,b 위치에 인덱스 값이 들어가지 않아도 오류가 생기지 않는다.\n",
    "- a에 값이 비면 처음부터라는 의미.\n",
    "- b에 값이 비면 끝까지라는 의미.\n",
    "- a,b 둘다 비면 처음부터 끝까지라는 의미이다.\n",
    "#### too short word 라는 변수에 담고 word 변수를 출력하여 확인하기\n"
   ]
  },
  {
   "cell_type": "markdown",
   "metadata": {},
   "source": [
    "### 풀어보기"
   ]
  },
  {
   "cell_type": "markdown",
   "metadata": {},
   "source": [
    "- uid_name 변수에 자신의 \"학번이름\"을 넣고\n",
    "- uid 변수, name 변수에 문자열 슬라이싱 방법을 통해 학번과 이름을 분리하기\n",
    "- uid 와 name 을 각각 출력하여 확인하기\n"
   ]
  },
  {
   "cell_type": "code",
   "execution_count": 29,
   "metadata": {},
   "outputs": [
    {
     "name": "stdout",
     "output_type": "stream",
     "text": [
      "20145175\n",
      "최정명\n"
     ]
    }
   ],
   "source": [
    "uid_name = \"20145175최정명\"\n",
    "uid = uid_name[:8]\n",
    "name = uid_name[8:]\n",
    "print(uid)\n",
    "print(name)"
   ]
  },
  {
   "cell_type": "markdown",
   "metadata": {},
   "source": [
    "#### 문자열의 내용 바꾸기\n",
    "- a = \"Pithon\"\n",
    "- a[1] = 'y'\n",
    "- 라고 하면 ? "
   ]
  },
  {
   "cell_type": "code",
   "execution_count": 30,
   "metadata": {
    "scrolled": true
   },
   "outputs": [
    {
     "ename": "TypeError",
     "evalue": "'str' object does not support item assignment",
     "output_type": "error",
     "traceback": [
      "\u001b[0;31m---------------------------------------------------------------------------\u001b[0m",
      "\u001b[0;31mTypeError\u001b[0m                                 Traceback (most recent call last)",
      "\u001b[0;32m<ipython-input-30-6d47f7c6fa9b>\u001b[0m in \u001b[0;36m<module>\u001b[0;34m\u001b[0m\n\u001b[1;32m      1\u001b[0m \u001b[0ma\u001b[0m\u001b[0;34m=\u001b[0m\u001b[0;34m\"Pithon\"\u001b[0m\u001b[0;34m\u001b[0m\u001b[0;34m\u001b[0m\u001b[0m\n\u001b[0;32m----> 2\u001b[0;31m \u001b[0ma\u001b[0m\u001b[0;34m[\u001b[0m\u001b[0;36m1\u001b[0m\u001b[0;34m]\u001b[0m \u001b[0;34m=\u001b[0m \u001b[0;34m'y'\u001b[0m\u001b[0;34m\u001b[0m\u001b[0;34m\u001b[0m\u001b[0m\n\u001b[0m",
      "\u001b[0;31mTypeError\u001b[0m: 'str' object does not support item assignment"
     ]
    }
   ],
   "source": [
    "a=\"Pithon\"\n",
    "a[1] = 'y'\n"
   ]
  },
  {
   "cell_type": "markdown",
   "metadata": {},
   "source": [
    "- 문자열에서 일부분을 바꾸려면 어떻게 해야할까 ?"
   ]
  },
  {
   "cell_type": "code",
   "execution_count": null,
   "metadata": {
    "scrolled": true
   },
   "outputs": [],
   "source": [
    "a=\"Pithon\"\n",
    "print(a[:1])\n",
    "print(a[2:])\n",
    "print(a[:1] + 'y' + a[2:])\n",
    "\n",
    "a2 = a[:1] + 'y' + a[2:]\n",
    "print(a2)"
   ]
  },
  {
   "cell_type": "markdown",
   "metadata": {},
   "source": [
    "## 풀어보기\n",
    "- 밑의 코드를 완성하여 \"apple\" 문자열을 만들고 출력해보기"
   ]
  },
  {
   "cell_type": "code",
   "execution_count": null,
   "metadata": {},
   "outputs": [],
   "source": [
    "a = \"aple\"\n",
    "b = a[:1] + 'p' +a[1:]\n",
    "print(b)"
   ]
  },
  {
   "cell_type": "markdown",
   "metadata": {},
   "source": [
    "# 4월3일 수업 복습하기\n"
   ]
  },
  {
   "cell_type": "markdown",
   "metadata": {},
   "source": [
    "#### 변수에 값을 넣고 출력을 할 수 있는 방법을 알아야 한다.\n",
    "- name 이라는 변수에 자신의 이름을 넣어 선언 및 초기화 (문자열)\n",
    "- age 라는 변수에 자신의 나이를 넣어 선언 및 초기화 (정수)\n",
    "- name 과 age 변수를 이용해 \"제 이름은 OOO 입니다. 나이는 OO입니다.\" 출력하기"
   ]
  },
  {
   "cell_type": "markdown",
   "metadata": {},
   "source": [
    "#### 인덱싱과 슬라이싱의 개념을 알 수 있어야한다.\n",
    "- string1 = \"Life is too short\" 를 적어 string1 변수를 선언 및 초기화\n",
    "- length 라는 변수에 string1 변수의 길이를 len()를 이용하여 선언 및 초기화\n",
    "- string1 문자열로 인덱싱 방법을 통해 'f' 값 출력하기 (Hint : string1[0]은 'L' 값이 들어가있다.)\n",
    "- string1 문자열을 슬라이싱 방법을 통해 \"too\" 값 출력하기 (Hint : string1[0:4] 는 \"Life\" 값이 출력된다.)"
   ]
  },
  {
   "cell_type": "code",
   "execution_count": 74,
   "metadata": {},
   "outputs": [
    {
     "name": "stdout",
     "output_type": "stream",
     "text": [
      "f\n",
      "too\n"
     ]
    }
   ],
   "source": [
    "string1 = \"Life is too short\"\n",
    "length = len(string1)\n",
    "print(string1[2])\n",
    "print(string1[8:11])"
   ]
  },
  {
   "cell_type": "code",
   "execution_count": 66,
   "metadata": {},
   "outputs": [
    {
     "data": {
      "image/png": "[encoded data removed]",
      "text/plain": [
       "<IPython.core.display.Image object>"
      ]
     },
     "execution_count": 66,
     "metadata": {},
     "output_type": "execute_result"
    }
   ],
   "source": [
    "from IPython.display import Image\n",
    "Image(\"인덱스.png\")"
   ]
  },
  {
   "cell_type": "markdown",
   "metadata": {},
   "source": [
    "## 문자열 포멧팅\n",
    "- \"현재 온도는 18도 입니다.\"\n",
    "- \"현재 온도는 20도 입니다.\"\n",
    "- 위 두 문자열은 같은데 18,20 숫자만 다르다.\n",
    "- 이렇게 문자열 내에 특정한 값을 바꿔야 할 경우가 있을 때 이것을 가능하게 해주는 것이 문자열 포멧팅이다.\n",
    "- %d : 정수\n",
    "- %s : 문자열\n",
    "- %f : 부동소수\n",
    "- %c : 문자 1개\n",
    "- %o : 8진수\n",
    "- %x : 16진수"
   ]
  },
  {
   "cell_type": "code",
   "execution_count": null,
   "metadata": {},
   "outputs": [],
   "source": [
    "num = 3\n",
    "print(\"I eat %d apples\"%num)"
   ]
  },
  {
   "cell_type": "code",
   "execution_count": null,
   "metadata": {},
   "outputs": [],
   "source": [
    "string_1 = \"five\"\n",
    "print(\"I eat %s apples\" %string_1)"
   ]
  },
  {
   "cell_type": "markdown",
   "metadata": {},
   "source": [
    "#### 2개 이상의 값 넣기"
   ]
  },
  {
   "cell_type": "code",
   "execution_count": null,
   "metadata": {},
   "outputs": [],
   "source": [
    "num=3\n",
    "day=\"three\"\n",
    "print(\"I ate %d apples. So I was sick for %s days.\" %(num,day))"
   ]
  },
  {
   "cell_type": "markdown",
   "metadata": {},
   "source": [
    "- 재밌는건 %s 코드인데 이것은 어떤 자료형이든 넣을 수가 있다.\n",
    "- %s는 자동으로 % 뒤에 있는 값을 문자열로 바꾸기 때문."
   ]
  },
  {
   "cell_type": "code",
   "execution_count": null,
   "metadata": {},
   "outputs": [],
   "source": [
    "num=3\n",
    "print(\"I ate %s apples.\" %num)"
   ]
  },
  {
   "cell_type": "markdown",
   "metadata": {},
   "source": [
    "#### 정렬과 공백을 만들면서 문자열 만들기\n",
    "- %10s 의 의미는 전체길이가 10개의 문자열 공간에 해당 문자열을 오른쪽 정렬하고 그 앞의 나머지 공간은 공백으로 남긴다는 뜻.\n",
    "- 만약 Hello 라는 문자열 일때 5칸의 공백이 있고 그다음 Hello 가 출력된다.\n",
    "- %-10s 는 반대로 10개의 문자열 공간에 문자열을 왼쪽으로 정렬하고 그 뒤 공간을 공백으로 남긴다는 뜻\n"
   ]
  },
  {
   "cell_type": "code",
   "execution_count": null,
   "metadata": {},
   "outputs": [],
   "source": [
    "string_1 = \"Hello\"\n",
    "print(\"%10s\" %string_1)"
   ]
  },
  {
   "cell_type": "code",
   "execution_count": null,
   "metadata": {},
   "outputs": [],
   "source": [
    "print(\"%-10sHello\" %string_1)"
   ]
  },
  {
   "cell_type": "markdown",
   "metadata": {},
   "source": [
    "#### 소수점 표현하기\n",
    "- %0.4f 의 뜻은 소수점 4자리까지만 표현한다는 뜻\n",
    "- %0.2f 의 뜻은 소수점 2자리까지만 표현한다는 뜻\n",
    "- %10.4f 의 뜻은 소수점 4자리까지 표현하는데 %10s 처럼 10개의 문자열 공간에 오른쪽 정렬하고 그 앞의 나머지 공간은 공백으로 남긴다는 뜻이다."
   ]
  },
  {
   "cell_type": "code",
   "execution_count": 31,
   "metadata": {},
   "outputs": [
    {
     "name": "stdout",
     "output_type": "stream",
     "text": [
      "3.1235\n"
     ]
    }
   ],
   "source": [
    "print(\"%0.4f\" %3.123456789)"
   ]
  },
  {
   "cell_type": "code",
   "execution_count": 32,
   "metadata": {
    "scrolled": true
   },
   "outputs": [
    {
     "name": "stdout",
     "output_type": "stream",
     "text": [
      "   3.12346\n"
     ]
    }
   ],
   "source": [
    "print(\"%10.5f\"%3.123456789 )"
   ]
  },
  {
   "cell_type": "markdown",
   "metadata": {},
   "source": [
    "# 풀어보기\n",
    "- import math를 작성후\n",
    "- math.pi 값을 p 변수에 담고 p를 출력할 때 소수점 2째자리까지만 표현해보기\n",
    "- import math\n",
    "- p = math.pi"
   ]
  },
  {
   "cell_type": "code",
   "execution_count": 33,
   "metadata": {},
   "outputs": [
    {
     "name": "stdout",
     "output_type": "stream",
     "text": [
      "3.14\n"
     ]
    }
   ],
   "source": [
    "import math\n",
    "p = math.pi\n",
    "print(\"%0.2f\"%p)"
   ]
  },
  {
   "cell_type": "code",
   "execution_count": null,
   "metadata": {},
   "outputs": [],
   "source": []
  },
  {
   "cell_type": "markdown",
   "metadata": {},
   "source": [
    "#### format 함수를 이용한 포멧팅\n",
    "- 문자열 format 함수를 이용하면 좀 더 발전된 스타일로 문자열 포멧을 지정할 수 있다.\n",
    "- \"I eat {0} apples\".format(3) 형태\n",
    "- \"I eat {} apples\".format(3) 중괄호\"{}\" 안에 숫자는 생략해도 된다."
   ]
  },
  {
   "cell_type": "code",
   "execution_count": 103,
   "metadata": {},
   "outputs": [
    {
     "name": "stdout",
     "output_type": "stream",
     "text": [
      "I 3 eat 4 apples\n"
     ]
    }
   ],
   "source": []
  },
  {
   "cell_type": "code",
   "execution_count": 104,
   "metadata": {},
   "outputs": [
    {
     "name": "stdout",
     "output_type": "stream",
     "text": [
      "I eat 3 apples\n"
     ]
    }
   ],
   "source": [
    "num = 3\n",
    "print(\"I eat {} apples\".format(num))"
   ]
  },
  {
   "cell_type": "code",
   "execution_count": 36,
   "metadata": {},
   "outputs": [
    {
     "name": "stdout",
     "output_type": "stream",
     "text": [
      "I eat three apples\n"
     ]
    }
   ],
   "source": [
    "string_1 = \"three\"\n",
    "print(\"I eat {} apples\".format(string_1))\n"
   ]
  },
  {
   "cell_type": "markdown",
   "metadata": {},
   "source": [
    "#### 2개 이상의 값 넣기"
   ]
  },
  {
   "cell_type": "code",
   "execution_count": 39,
   "metadata": {},
   "outputs": [
    {
     "name": "stdout",
     "output_type": "stream",
     "text": [
      "I ate 10 apples. so I was sick for three days.\n"
     ]
    }
   ],
   "source": [
    "number = 10\n",
    "day = \"three\"\n",
    "print(\"I ate {} apples. so I was sick for {} days.\".format(number, day))"
   ]
  },
  {
   "cell_type": "code",
   "execution_count": 41,
   "metadata": {},
   "outputs": [
    {
     "name": "stdout",
     "output_type": "stream",
     "text": [
      "I ate 10 apples. So I was sick for three days.\n"
     ]
    }
   ],
   "source": [
    "print(\"I ate {1} apples. So I was sick for {0} days.\".format(day,number))"
   ]
  },
  {
   "cell_type": "markdown",
   "metadata": {},
   "source": [
    "#### 정렬해서 넣기\n",
    "- 왼쪽 정렬 :<"
   ]
  },
  {
   "cell_type": "code",
   "execution_count": 56,
   "metadata": {},
   "outputs": [
    {
     "name": "stdout",
     "output_type": "stream",
     "text": [
      "Hello     Hi\n"
     ]
    }
   ],
   "source": [
    "print(\"{:<10}Hi\".format(\"Hello\"))"
   ]
  },
  {
   "cell_type": "markdown",
   "metadata": {},
   "source": [
    "- 오른쪽 정렬 :>"
   ]
  },
  {
   "cell_type": "code",
   "execution_count": 57,
   "metadata": {},
   "outputs": [
    {
     "name": "stdout",
     "output_type": "stream",
     "text": [
      "     Hello\n"
     ]
    }
   ],
   "source": [
    "print(\"{:>10}\".format(\"Hello\"))"
   ]
  },
  {
   "cell_type": "markdown",
   "metadata": {},
   "source": [
    "- 가운데 정렬 :^"
   ]
  },
  {
   "cell_type": "code",
   "execution_count": 58,
   "metadata": {
    "scrolled": true
   },
   "outputs": [
    {
     "name": "stdout",
     "output_type": "stream",
     "text": [
      "  Hello   \n"
     ]
    }
   ],
   "source": [
    "print(\"{:^10}\".format(\"Hello\"))"
   ]
  },
  {
   "cell_type": "markdown",
   "metadata": {},
   "source": [
    "#### 소수점 표현"
   ]
  },
  {
   "cell_type": "markdown",
   "metadata": {},
   "source": [
    "- {:"
   ]
  },
  {
   "cell_type": "code",
   "execution_count": 68,
   "metadata": {
    "scrolled": true
   },
   "outputs": [
    {
     "name": "stdout",
     "output_type": "stream",
     "text": [
      "3.1416\n"
     ]
    }
   ],
   "source": [
    "y=3.141592\n",
    "print(\"{:0.4f}\".format(y))"
   ]
  },
  {
   "cell_type": "code",
   "execution_count": 69,
   "metadata": {},
   "outputs": [
    {
     "name": "stdout",
     "output_type": "stream",
     "text": [
      "    3.1416\n"
     ]
    }
   ],
   "source": [
    "print(\"{:10.4f}\".format(y))"
   ]
  },
  {
   "cell_type": "markdown",
   "metadata": {},
   "source": [
    "## 풀어보기"
   ]
  },
  {
   "cell_type": "markdown",
   "metadata": {},
   "source": [
    "- name 이라는 변수에 자신의 이름으로 선언 및 초기화\n",
    "- height 라는 변수에 자신의 키로 선언 및 초기화 (175cm이면 1.75로)\n",
    "- weight 라는 변수에 몸무게로 선언 및 초기화\n",
    "- BMI 라는 변수에 height 와 weight 로 BMI 지수를 계산한 값으로 선언 및 초기화\n",
    "- BMI = 몸무게 / (키 * 키)\n",
    "- \"당신의 BMI 지수는 OO 입니다.\" 로 출력하기\n"
   ]
  },
  {
   "cell_type": "code",
   "execution_count": 38,
   "metadata": {},
   "outputs": [
    {
     "name": "stdout",
     "output_type": "stream",
     "text": [
      "당신의 BMI 지수는 22.86 입니다.\n"
     ]
    }
   ],
   "source": [
    "name= \"최정명\"\n",
    "height = 1.75\n",
    "weight = 70.0\n",
    "BMI = weight / (height**2) # height**2\n",
    "print(\"당신의 BMI 지수는 {:0.2f} 입니다.\".format(BMI))\n",
    "# print(\"당신의 BMI 지수는\",BMI,\"입니다.\")"
   ]
  },
  {
   "cell_type": "markdown",
   "metadata": {},
   "source": [
    "### 문자 개수 세기(count)"
   ]
  },
  {
   "cell_type": "code",
   "execution_count": 39,
   "metadata": {},
   "outputs": [
    {
     "name": "stdout",
     "output_type": "stream",
     "text": [
      "2\n"
     ]
    }
   ],
   "source": [
    "a= \"hobby\"\n",
    "print(a.count('b'))"
   ]
  },
  {
   "cell_type": "markdown",
   "metadata": {},
   "source": [
    "### 위치 알려주기1(find)\n",
    "- 없는 문자일 경우 -1이 반환된다."
   ]
  },
  {
   "cell_type": "code",
   "execution_count": 44,
   "metadata": {
    "scrolled": false
   },
   "outputs": [
    {
     "name": "stdout",
     "output_type": "stream",
     "text": [
      "14\n",
      "-1\n",
      "25\n"
     ]
    }
   ],
   "source": [
    "a = \"Python is the best choice\"\n",
    "print(a.find('best'))\n",
    "print(a.find('k'))\n",
    "print(len(a))"
   ]
  },
  {
   "cell_type": "markdown",
   "metadata": {},
   "source": [
    "### 위치 알려주기2(index)\n",
    "- 없는 문자일 경우 오류난다."
   ]
  },
  {
   "cell_type": "code",
   "execution_count": 1,
   "metadata": {},
   "outputs": [
    {
     "name": "stdout",
     "output_type": "stream",
     "text": [
      "8\n"
     ]
    },
    {
     "ename": "ValueError",
     "evalue": "substring not found",
     "output_type": "error",
     "traceback": [
      "\u001b[0;31m---------------------------------------------------------------------------\u001b[0m",
      "\u001b[0;31mValueError\u001b[0m                                Traceback (most recent call last)",
      "\u001b[0;32m<ipython-input-1-5f899369d5b0>\u001b[0m in \u001b[0;36m<module>\u001b[0;34m\u001b[0m\n\u001b[1;32m      1\u001b[0m \u001b[0ma\u001b[0m\u001b[0;34m=\u001b[0m\u001b[0;34m\"Life is too short\"\u001b[0m\u001b[0;34m\u001b[0m\u001b[0;34m\u001b[0m\u001b[0m\n\u001b[1;32m      2\u001b[0m \u001b[0mprint\u001b[0m\u001b[0;34m(\u001b[0m\u001b[0ma\u001b[0m\u001b[0;34m.\u001b[0m\u001b[0mindex\u001b[0m\u001b[0;34m(\u001b[0m\u001b[0;34m'too'\u001b[0m\u001b[0;34m)\u001b[0m\u001b[0;34m)\u001b[0m\u001b[0;34m\u001b[0m\u001b[0;34m\u001b[0m\u001b[0m\n\u001b[0;32m----> 3\u001b[0;31m \u001b[0mprint\u001b[0m\u001b[0;34m(\u001b[0m\u001b[0ma\u001b[0m\u001b[0;34m.\u001b[0m\u001b[0mindex\u001b[0m\u001b[0;34m(\u001b[0m\u001b[0;34m'k'\u001b[0m\u001b[0;34m)\u001b[0m\u001b[0;34m)\u001b[0m\u001b[0;34m\u001b[0m\u001b[0;34m\u001b[0m\u001b[0m\n\u001b[0m",
      "\u001b[0;31mValueError\u001b[0m: substring not found"
     ]
    }
   ],
   "source": [
    "a=\"Life is too short\"\n",
    "print(a.index('too'))\n",
    "print(a.index('k'))"
   ]
  },
  {
   "cell_type": "markdown",
   "metadata": {},
   "source": [
    "## 풀어보기\n",
    "- \"파이썬은 너무 재미있다.\" 라는 문자열을 sss 라는 변수에 선언 및 초기화\n",
    "- find 혹은 index 함수를 사용하여 '무' 문자의 위치를 출력. \n",
    "\n"
   ]
  },
  {
   "cell_type": "code",
   "execution_count": 46,
   "metadata": {},
   "outputs": [
    {
     "name": "stdout",
     "output_type": "stream",
     "text": [
      "6\n"
     ]
    }
   ],
   "source": [
    "sss = \"파이썬은 너무 재미있다.\"\n",
    "print(sss.find(\"무\"))"
   ]
  },
  {
   "cell_type": "markdown",
   "metadata": {},
   "source": [
    "### 소문자를 대문자로 바꾸기(upper)\n"
   ]
  },
  {
   "cell_type": "code",
   "execution_count": 2,
   "metadata": {},
   "outputs": [
    {
     "name": "stdout",
     "output_type": "stream",
     "text": [
      "HI\n"
     ]
    }
   ],
   "source": [
    "a= \"hi\"\n",
    "print(a.upper()) #매개변수가 없는 함수. upper()\n"
   ]
  },
  {
   "cell_type": "markdown",
   "metadata": {},
   "source": [
    "### 대문자를 소문자로 바꾸기(lower)\n"
   ]
  },
  {
   "cell_type": "code",
   "execution_count": 49,
   "metadata": {
    "scrolled": true
   },
   "outputs": [
    {
     "name": "stdout",
     "output_type": "stream",
     "text": [
      "hi\n"
     ]
    }
   ],
   "source": [
    "a=\"HI\"\n",
    "print(a.lower())"
   ]
  },
  {
   "cell_type": "markdown",
   "metadata": {},
   "source": [
    "### 공백 지우기"
   ]
  },
  {
   "cell_type": "code",
   "execution_count": 5,
   "metadata": {
    "scrolled": true
   },
   "outputs": [
    {
     "name": "stdout",
     "output_type": "stream",
     "text": [
      "hi\n",
      "  hi\n",
      "hi  \n"
     ]
    }
   ],
   "source": [
    "a=\"  hi  \"\n",
    "print(a.strip())\n",
    "print(a.rstrip())\n",
    "print(a.lstrip())"
   ]
  },
  {
   "cell_type": "markdown",
   "metadata": {},
   "source": [
    "# 문자열 바꾸기(replace)\n",
    "- 바꿀문자열전체.replace(바뀔문자열, 바꿀 문자열)\n"
   ]
  },
  {
   "cell_type": "code",
   "execution_count": 54,
   "metadata": {},
   "outputs": [
    {
     "name": "stdout",
     "output_type": "stream",
     "text": [
      "Your leg is too short\n"
     ]
    }
   ],
   "source": [
    "a= \"Life is too short\"\n",
    "b = a.replace(\"Life\", \"Your leg\")\n",
    "\n",
    "print(b)"
   ]
  },
  {
   "cell_type": "markdown",
   "metadata": {},
   "source": [
    "### 문자열 나누기(split)\n",
    "- split() 괄호안에 매개변수를 아무것도 넣어주지 않으면 공백을 기준으로 문자열이 나누어진다.\n",
    "- 괄호안에 ':'나 '-' 등을 넣어주면 그 문자 기준으로 나누어진다."
   ]
  },
  {
   "cell_type": "code",
   "execution_count": 61,
   "metadata": {},
   "outputs": [
    {
     "name": "stdout",
     "output_type": "stream",
     "text": [
      "['Life', 'is', 'too', 'short']\n",
      "is\n",
      "<class 'list'>\n",
      "<class 'float'>\n"
     ]
    }
   ],
   "source": [
    "a = \"Life is too short\"\n",
    "b = a.split()\n",
    "# 배열 / 리스트\n",
    "print(b)\n",
    "print(type(b))\n",
    "# 정수=int , 실수=float, 문자열=str\n"
   ]
  },
  {
   "cell_type": "code",
   "execution_count": 29,
   "metadata": {
    "scrolled": true
   },
   "outputs": [
    {
     "name": "stdout",
     "output_type": "stream",
     "text": [
      "['951030', '1234567']\n"
     ]
    }
   ],
   "source": [
    "a = \"951030-1234567\"\n",
    "b = a.split('-')\n",
    "print(b)"
   ]
  },
  {
   "cell_type": "markdown",
   "metadata": {},
   "source": [
    "- split() 함수로 '/' 를 기준으로 년,월,일을 나누고 출력하기\n",
    "- 나눈 리스트는 yymmdd 변수에 넣는다.\n",
    "- yymmdd = split을 이용해서 나누는 코드를 작성\n",
    "- 나눈 다음 yymmdd를 출력한다."
   ]
  },
  {
   "cell_type": "code",
   "execution_count": 65,
   "metadata": {},
   "outputs": [
    {
     "name": "stdout",
     "output_type": "stream",
     "text": [
      "['2019', '04', '10']\n"
     ]
    }
   ],
   "source": [
    "date = \"2019-04-10\"\n",
    "yymmdd = date.split('-')\n",
    "print(yymmdd)\n"
   ]
  },
  {
   "cell_type": "markdown",
   "metadata": {},
   "source": [
    "# 리스트 자료형"
   ]
  },
  {
   "cell_type": "code",
   "execution_count": 2,
   "metadata": {},
   "outputs": [],
   "source": [
    "odd = [1, 3, 5, 7, 9]"
   ]
  },
  {
   "cell_type": "markdown",
   "metadata": {},
   "source": [
    "- 리스트명 = [요소1, 요소2, 요소3 ...]\n",
    "- 리스트안에는 여러가지 자료형들이 다 들어가도 된다."
   ]
  },
  {
   "cell_type": "code",
   "execution_count": 3,
   "metadata": {},
   "outputs": [],
   "source": [
    "a = []\n",
    "b = [1, 2, 3]\n",
    "c = ['Life', 'is', 'too', 'short']\n",
    "d = [1, 2, 'Life', 'is']\n",
    "e = [1, 2, ['Life', 'is']]\n"
   ]
  },
  {
   "cell_type": "markdown",
   "metadata": {},
   "source": [
    "- a는 비어있는 리스트\n",
    "- b는 정수로만 이루어져있는 리스트\n",
    "- c는 문자열로 이루어진 리스트\n",
    "- d는 문자열과 정수로 이루어진 리스트\n",
    "- e는 정수와 문자열로 이루어진 리스트를 포함한 리스트\n"
   ]
  },
  {
   "cell_type": "markdown",
   "metadata": {},
   "source": [
    "### 리스트 인덱싱\n"
   ]
  },
  {
   "cell_type": "code",
   "execution_count": 15,
   "metadata": {},
   "outputs": [
    {
     "name": "stdout",
     "output_type": "stream",
     "text": [
      "3\n"
     ]
    }
   ],
   "source": [
    "a = [1, 2, 3]\n",
    "print(a[0])"
   ]
  },
  {
   "cell_type": "code",
   "execution_count": 5,
   "metadata": {},
   "outputs": [
    {
     "name": "stdout",
     "output_type": "stream",
     "text": [
      "4\n"
     ]
    }
   ],
   "source": [
    "print(a[0] + a[2])"
   ]
  },
  {
   "cell_type": "markdown",
   "metadata": {},
   "source": [
    "### 리스트안에 리스트 있는 구조"
   ]
  },
  {
   "cell_type": "code",
   "execution_count": 20,
   "metadata": {},
   "outputs": [
    {
     "name": "stdout",
     "output_type": "stream",
     "text": [
      "1\n",
      "['a', 'b', 'c', ['q', 'w', 'e']]\n"
     ]
    }
   ],
   "source": [
    "a= [1,2,3, ['a','b','c',['q','w','e']]]\n",
    "print(a[0])\n",
    "print(a[3])"
   ]
  },
  {
   "cell_type": "markdown",
   "metadata": {},
   "source": [
    "- 'a' 만 출력하고 싶으면 어떻게 해야할까 ?\n",
    "\n"
   ]
  },
  {
   "cell_type": "markdown",
   "metadata": {},
   "source": [
    "# 리스트 슬라이싱\n",
    "- 슬라이싱은 \"나눈다\"는 의미\n",
    "- 문자열 슬라이싱 방법과 동일하다."
   ]
  },
  {
   "cell_type": "code",
   "execution_count": 24,
   "metadata": {},
   "outputs": [
    {
     "name": "stdout",
     "output_type": "stream",
     "text": [
      "[1, 2]\n"
     ]
    }
   ],
   "source": [
    "a = [1, 2, 3, 4, 5]\n",
    "print(a[0:2])\n"
   ]
  },
  {
   "cell_type": "markdown",
   "metadata": {},
   "source": [
    "#### 문자열 슬라이싱(복습)"
   ]
  },
  {
   "cell_type": "code",
   "execution_count": 12,
   "metadata": {},
   "outputs": [
    {
     "name": "stdout",
     "output_type": "stream",
     "text": [
      "ab\n"
     ]
    }
   ],
   "source": [
    "a=\"abcde\"\n",
    "print(a[0:2])"
   ]
  },
  {
   "cell_type": "code",
   "execution_count": 25,
   "metadata": {},
   "outputs": [
    {
     "name": "stdout",
     "output_type": "stream",
     "text": [
      "[1, 2]\n",
      "[3, 4, 5]\n"
     ]
    }
   ],
   "source": [
    "a=[1,2,3,4,5]\n",
    "print(a[:2])\n",
    "print(a[2:])"
   ]
  },
  {
   "cell_type": "markdown",
   "metadata": {},
   "source": [
    "### 리스트 연산\n",
    "- '+' : 리스트끼리 덧셈을하면 문자열 처럼 리스트가 이어진다.\n",
    "- '*' : 리스트끼리 곱셈을하면 문자열 처럼 리스트가 반복된다.\n"
   ]
  },
  {
   "cell_type": "code",
   "execution_count": 15,
   "metadata": {},
   "outputs": [
    {
     "name": "stdout",
     "output_type": "stream",
     "text": [
      "[1, 2, 3, 4, 5, 6]\n"
     ]
    }
   ],
   "source": [
    "a= [1,2,3]\n",
    "b=[4,5,6]\n",
    "c= a+b\n",
    "print(c)\n"
   ]
  },
  {
   "cell_type": "code",
   "execution_count": 29,
   "metadata": {},
   "outputs": [
    {
     "name": "stdout",
     "output_type": "stream",
     "text": [
      "[1, 2, 3, 1, 2, 3, 1, 2, 3, 1, 2, 3, 1, 2, 3]\n"
     ]
    }
   ],
   "source": [
    "a = [1,2,3]\n",
    "b = a*3\n",
    "print(a)"
   ]
  },
  {
   "cell_type": "markdown",
   "metadata": {},
   "source": [
    "### 리스트 길이 구하기\n",
    "- len() 함수를 이용하여 구하면된다."
   ]
  },
  {
   "cell_type": "code",
   "execution_count": 18,
   "metadata": {},
   "outputs": [
    {
     "name": "stdout",
     "output_type": "stream",
     "text": [
      "7\n"
     ]
    }
   ],
   "source": [
    "a = [1,2,3,4,5,6,7]\n",
    "print(len(a))"
   ]
  },
  {
   "cell_type": "markdown",
   "metadata": {},
   "source": [
    "### 리스트값 수정하기"
   ]
  },
  {
   "cell_type": "code",
   "execution_count": 34,
   "metadata": {},
   "outputs": [
    {
     "name": "stdout",
     "output_type": "stream",
     "text": [
      "[1, 2, ['red', 'blue'], 4, 5]\n"
     ]
    }
   ],
   "source": [
    "a= [1,2,3,4,5]\n",
    "a[2] = [\"red\", \"blue\"]\n",
    "print(a)"
   ]
  },
  {
   "cell_type": "markdown",
   "metadata": {},
   "source": [
    "### 리스트 관련 함수들\n",
    "- append : 요소 추가\n",
    "- sort : 정렬\n",
    "- reverse : 뒤집기\n",
    "- index : 위치 반환\n",
    "- insert : 요소 삽입\n",
    "- remove : 요소 제거\n",
    "- count  : x의 개수 세기\n",
    "- extend : 리스트 확장\n"
   ]
  },
  {
   "cell_type": "markdown",
   "metadata": {},
   "source": [
    "### append(요소추가)"
   ]
  },
  {
   "cell_type": "markdown",
   "metadata": {},
   "source": [
    "- a=[1,2,3] 리스트에 ['a','b','c'] 리스트를 추가하여 출력하기"
   ]
  },
  {
   "cell_type": "code",
   "execution_count": 35,
   "metadata": {},
   "outputs": [
    {
     "name": "stdout",
     "output_type": "stream",
     "text": [
      "[1, 2, 3, ['a', 'b', 'c']]\n"
     ]
    }
   ],
   "source": [
    "a=[1, 2, 3]\n",
    "a.append(['a','b','c'])\n",
    "print(a)\n"
   ]
  },
  {
   "cell_type": "markdown",
   "metadata": {},
   "source": [
    "### sort(정렬)\n",
    "- 리스트의 요소를 순서대로 정렬시켜준다."
   ]
  },
  {
   "cell_type": "code",
   "execution_count": 51,
   "metadata": {},
   "outputs": [
    {
     "name": "stdout",
     "output_type": "stream",
     "text": [
      "[1, 2, 3, 4, 5]\n"
     ]
    }
   ],
   "source": [
    "a = [1, 5, 4, 3, 2]\n",
    "# b = ['aaa','bcc','acc','ab']\n",
    "a.sort()\n",
    "# b.sort()\n",
    "print(a)\n",
    "# print(b)"
   ]
  },
  {
   "cell_type": "markdown",
   "metadata": {},
   "source": [
    "### reverse(뒤집기)"
   ]
  },
  {
   "cell_type": "code",
   "execution_count": 96,
   "metadata": {},
   "outputs": [
    {
     "name": "stdout",
     "output_type": "stream",
     "text": [
      "[5, 4, 3, 2, 1]\n"
     ]
    }
   ],
   "source": [
    "a.reverse()\n",
    "print(a)"
   ]
  },
  {
   "cell_type": "markdown",
   "metadata": {},
   "source": [
    "### index(위치 반환)"
   ]
  },
  {
   "cell_type": "code",
   "execution_count": 105,
   "metadata": {
    "scrolled": true
   },
   "outputs": [
    {
     "name": "stdout",
     "output_type": "stream",
     "text": [
      "target\n"
     ]
    }
   ],
   "source": [
    "a = [1,2,3,\"target\"]\n",
    "# print(a.index(3))\n",
    "print(a[a.index(\"target\")])"
   ]
  },
  {
   "cell_type": "markdown",
   "metadata": {},
   "source": [
    "### insert(요소 삽입)\n",
    "- insert(x, value)\n",
    "- x의 위치에 value를 넣는다는 의미"
   ]
  },
  {
   "cell_type": "code",
   "execution_count": 106,
   "metadata": {},
   "outputs": [
    {
     "name": "stdout",
     "output_type": "stream",
     "text": [
      "[[10, 20, 10, 20, 40], 1, 2, 3]\n"
     ]
    }
   ],
   "source": [
    "a=[1,2,3]\n",
    "a.insert(0,[10,20,10,20,40])\n",
    "print(a)"
   ]
  },
  {
   "cell_type": "markdown",
   "metadata": {},
   "source": [
    "### remove(요소제거)\n",
    "- 첫 번째로 나오는 요소를 제거한다."
   ]
  },
  {
   "cell_type": "code",
   "execution_count": 110,
   "metadata": {},
   "outputs": [
    {
     "name": "stdout",
     "output_type": "stream",
     "text": [
      "['red', 'yellow', 'orange', 'blue', 'black']\n"
     ]
    }
   ],
   "source": [
    "a = [\"red\", \"blue\", \"yellow\",\"orange\",\"blue\",\"black\"]\n",
    "a.remove(\"blue\")\n",
    "# a.remove(\"blue\")\n",
    "print(a)"
   ]
  },
  {
   "cell_type": "markdown",
   "metadata": {},
   "source": [
    "### count(x의 개수 세기)\n"
   ]
  },
  {
   "cell_type": "code",
   "execution_count": 112,
   "metadata": {},
   "outputs": [
    {
     "name": "stdout",
     "output_type": "stream",
     "text": [
      "2\n"
     ]
    }
   ],
   "source": [
    "a = [\"red\", \"blue\", \"yellow\",\"orange\",\"blue\",\"black\"]\n",
    "print(a.count('blue'))"
   ]
  },
  {
   "cell_type": "markdown",
   "metadata": {},
   "source": [
    "### 리스트 확장(extend)\n",
    "- extend(x)\n",
    "- x에는 리스트만 올 수 있고 x 리스트를 더하게 되는 의미."
   ]
  },
  {
   "cell_type": "code",
   "execution_count": 116,
   "metadata": {},
   "outputs": [
    {
     "name": "stdout",
     "output_type": "stream",
     "text": [
      "[1, 2, 3, 4, 5]\n"
     ]
    }
   ],
   "source": [
    "a = [1,2,3]\n",
    "a.extend([4,5])\n",
    "print(a)\n",
    "# print(a + [4,5])"
   ]
  }
 ],
 "metadata": {
  "kernelspec": {
   "display_name": "Python 3",
   "language": "python",
   "name": "python3"
  },
  "language_info": {
   "codemirror_mode": {
    "name": "ipython",
    "version": 3
   },
   "file_extension": ".py",
   "mimetype": "text/x-python",
   "name": "python",
   "nbconvert_exporter": "python",
   "pygments_lexer": "ipython3",
   "version": "3.6.8"
  }
 },
 "nbformat": 4,
 "nbformat_minor": 2
}
